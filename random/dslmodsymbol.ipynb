{
 "cells": [
  {
   "cell_type": "code",
   "execution_count": 1,
   "id": "0db78a9d",
   "metadata": {},
   "outputs": [],
   "source": [
    "import numpy as np\n",
    "from functools import reduce\n",
    "from collections import namedtuple\n",
    "from typing import List, Tuple, Union,Dict\n",
    "import json\n",
    "import re\n",
    "\n",
    "MAXSIDE = 100\n",
    "MAXAREA = 40 * 40\n",
    "MAXPIXELS = 40 * 40 * 5\n",
    "\n",
    "import sys\n",
    "import os\n",
    "\n",
    "sys.path.append(os.path.abspath(os.path.join('..', 'src', 'arclang')))\n",
    "sys.path.append(os.path.abspath(os.path.join('..', 'src')))\n",
    "\n",
    "from image import Image, Point\n",
    "from function import *\n",
    "# from dsl import *"
   ]
  },
  {
   "cell_type": "code",
   "execution_count": 2,
   "id": "08c0ae78",
   "metadata": {},
   "outputs": [],
   "source": [
    "from typing import List, Any\n",
    "\n",
    "class Node:\n",
    "    def __init__(self, node_type: str, value: Any = None, children: List['Node'] = None):\n",
    "        self.node_type = node_type\n",
    "        self.value = value\n",
    "        self.children = children or []\n",
    "\n",
    "    def __repr__(self):\n",
    "        return f\"Node(type={self.node_type}, value={self.value}, children={self.children})\"\n",
    "\n",
    "    def format(self, indent=0):\n",
    "        \"\"\"\n",
    "        Format the Node and its children into a readable string representation.\n",
    "        \n",
    "        :param indent: The current indentation level (default: 0)\n",
    "        :return: A formatted string representation of the Node\n",
    "        \"\"\"\n",
    "        indent_str = '    ' * indent\n",
    "        result = f\"{indent_str}Node(type={self.node_type}\"\n",
    "        \n",
    "        if self.value is not None:\n",
    "            result += f\", value={self.value}\"\n",
    "        \n",
    "        if self.children:\n",
    "            result += \", children=[\\n\"\n",
    "            for child in self.children:\n",
    "                result += child.format(indent + 1) + \",\\n\"\n",
    "            result += f\"{indent_str}]\"\n",
    "        else:\n",
    "            result += \", children=[]\"\n",
    "        \n",
    "        result += \")\"\n",
    "        return result\n",
    "\n",
    "    def show(self):\n",
    "        \"\"\"\n",
    "        Print the formatted representation of the Node and its children.\n",
    "        \"\"\"\n",
    "        print(self.format())\n",
    "\n",
    "# Example usage:\n",
    "# root_node = Node(...)  # Your root Node object\n",
    "# root_node.print_formatted()"
   ]
  },
  {
   "cell_type": "code",
   "execution_count": 3,
   "id": "4ae495c6",
   "metadata": {},
   "outputs": [],
   "source": [
    "from typing import Dict, Any, Optional\n",
    "\n",
    "class Symbol:\n",
    "    def __init__(self, name: str, type: str, scope: str, value: Any = None):\n",
    "        self.name = name\n",
    "        self.type = type  # 'variable', 'function', etc.\n",
    "        self.scope = scope\n",
    "        self.value = value\n",
    "\n",
    "\n",
    "class SymbolTable:\n",
    "    def __init__(self):\n",
    "        self.scopes: Dict[str, Dict[str, Symbol]] = {\"global\": {}}\n",
    "        self.current_scope = \"global\"\n",
    "\n",
    "    def enter_scope(self, scope_name: str):\n",
    "        if scope_name not in self.scopes:\n",
    "            self.scopes[scope_name] = {}\n",
    "        self.current_scope = scope_name\n",
    "\n",
    "    def exit_scope(self):\n",
    "        self.current_scope = \"global\"\n",
    "\n",
    "    def add_symbol(self, name: str, type: str, value: Any = None):\n",
    "        symbol = Symbol(name, type, self.current_scope, value)\n",
    "        self.scopes[self.current_scope][name] = symbol\n",
    "\n",
    "    def lookup(self, name: str) -> Optional[Symbol]:\n",
    "        if name in self.scopes[self.current_scope]:\n",
    "            return self.scopes[self.current_scope][name]\n",
    "        elif name in self.scopes[\"global\"]:\n",
    "            return self.scopes[\"global\"][name]\n",
    "        return None\n",
    "    "
   ]
  },
  {
   "cell_type": "code",
   "execution_count": null,
   "id": "162072c2",
   "metadata": {},
   "outputs": [],
   "source": []
  },
  {
   "cell_type": "code",
   "execution_count": 4,
   "id": "fb3dc97d",
   "metadata": {},
   "outputs": [],
   "source": [
    "import re\n",
    "from typing import List, Tuple\n",
    "class Parser:\n",
    "    def __init__(self):\n",
    "        self.symbol_table = SymbolTable()\n",
    "\n",
    "    def parse(self, script: str, root_name=\"ROOT\") -> Node:\n",
    "        lines = script.split('\\n')\n",
    "        root = Node(root_name)\n",
    "        self.parse_block(lines, 0, root)\n",
    "        return root\n",
    "\n",
    "    def parse_block(self, lines: List[str], start: int, parent_node: Node) -> int:\n",
    "        i = start\n",
    "        while i < len(lines):\n",
    "            line = lines[i].strip()\n",
    "            if not line:\n",
    "                i += 1\n",
    "                continue\n",
    "            \n",
    "            if line.upper() in ['END', 'ELSE']:\n",
    "                return i\n",
    "\n",
    "            if line.upper().startswith('DEF'):\n",
    "                i, func_def_node = self.parse_function_definition(lines, i)\n",
    "                parent_node.children.append(func_def_node)\n",
    "                self.symbol_table.add_symbol(func_def_node.value['name'], 'function')\n",
    "            elif line.upper().startswith('IF'):\n",
    "                i, if_node = self.parse_if_block(lines, i)\n",
    "                parent_node.children.append(if_node)\n",
    "            elif line.upper().startswith('WHILE'):\n",
    "                i, while_node = self.parse_while_loop(lines, i)\n",
    "                parent_node.children.append(while_node)\n",
    "            elif line.upper().startswith('FOR'):\n",
    "                i, for_node = self.parse_for_loop(lines, i)\n",
    "                parent_node.children.append(for_node)\n",
    "            elif line.upper().startswith('LIST'):\n",
    "                list_node = self.parse_list_creation(line)\n",
    "                parent_node.children.append(list_node)\n",
    "                self.symbol_table.add_symbol(list_node.value['name'], 'list')\n",
    "            elif line.upper().startswith('APPEND'):\n",
    "                append_node = self.parse_list_append(line)\n",
    "                parent_node.children.append(append_node)\n",
    "            elif '=' in line:\n",
    "                assign_node = self.parse_assignment(line)\n",
    "                parent_node.children.append(assign_node)\n",
    "                self.symbol_table.add_symbol(assign_node.value['variable'], 'variable', assign_node.value['expression'])\n",
    "            else:\n",
    "                func_call_node = self.parse_function_call(line)\n",
    "                parent_node.children.append(func_call_node)\n",
    "                if not self.symbol_table.lookup(func_call_node.value['name']):\n",
    "                    print(f\"Warning: Function '{func_call_node.value['name']}' called but not defined\")\n",
    "            i += 1\n",
    "        \n",
    "        return i\n",
    "\n",
    "    def parse_assignment(self, line: str) -> Node:\n",
    "        var_name, expression = map(str.strip, line.split('='))\n",
    "        return Node('ASSIGN', {'variable': var_name, 'expression': expression},[self.parse_function_call(expression)])\n",
    "\n",
    "    def parse_function_call(self, line: str) -> Node:\n",
    "        match = re.match(r'(\\w+)\\s*(.*)', line)\n",
    "        if not match:\n",
    "            raise ValueError(f\"Invalid function call: {line}\")\n",
    "        \n",
    "        func_name, args_str = match.groups()\n",
    "        args_str = args_str.replace(\";\",\"\")\n",
    "        args = [arg.strip() for arg in args_str.split()] if args_str else []\n",
    "        \n",
    "        return Node('FUNCTION', {'name': func_name.upper(), 'args': args})\n",
    "\n",
    "    def parse_function_definition(self, lines: List[str], start: int) -> Tuple[int, Node]:\n",
    "        def_line = lines[start].strip()\n",
    "        match = re.match(r'DEF\\s+(\\w+)\\s*\\((.*?)\\)', def_line, re.IGNORECASE)\n",
    "        if not match:\n",
    "            raise ValueError(f\"Invalid function definition: {def_line}\")\n",
    "        \n",
    "        func_name, params_str = match.groups()\n",
    "        params = [param.strip() for param in params_str.split(',') if param.strip()]\n",
    "        \n",
    "        self.symbol_table.enter_scope(func_name)\n",
    "        for param in params:\n",
    "            self.symbol_table.add_symbol(param, 'parameter')\n",
    "        \n",
    "        body_node = Node('BLOCK')\n",
    "        i = self.parse_block(lines, start + 1, body_node)\n",
    "        \n",
    "        self.symbol_table.exit_scope()\n",
    "        \n",
    "        return i, Node('FUNCTION_DEF', {'name': func_name, 'params': params}, [body_node])\n",
    "\n",
    "    def parse_if_block(self, lines: List[str], start: int) -> Tuple[int, Node]:\n",
    "        if_line = lines[start].strip()\n",
    "        match = re.match(r'IF\\s+(.+)', if_line, re.IGNORECASE)\n",
    "        if not match:\n",
    "            raise ValueError(f\"Invalid IF statement: {if_line}\")\n",
    "        \n",
    "        condition = match.group(1)\n",
    "        true_block = Node('TRUE_BLOCK')\n",
    "        false_block = Node('FALSE_BLOCK')\n",
    "        \n",
    "        i = self.parse_block(lines, start + 1, true_block)\n",
    "        \n",
    "        if i < len(lines) and lines[i].strip().upper() == 'ELSE':\n",
    "            i = self.parse_block(lines, i + 1, false_block)\n",
    "        \n",
    "        return i, Node('IF', {'condition': condition}, [true_block, false_block])\n",
    "\n",
    "    def parse_while_loop(self, lines: List[str], start: int) -> Tuple[int, Node]:\n",
    "        while_line = lines[start].strip()\n",
    "        match = re.match(r'WHILE\\s+(.+)', while_line, re.IGNORECASE)\n",
    "        if not match:\n",
    "            raise ValueError(f\"Invalid WHILE statement: {while_line}\")\n",
    "        \n",
    "        condition = match.group(1)\n",
    "        body_node = Node('LOOP_WHILE')\n",
    "        \n",
    "        i = self.parse_block(lines, start + 1, body_node)\n",
    "        return i, Node('WHILE', {'condition': condition}, [body_node])\n",
    "\n",
    "    def parse_for_loop(self, lines: List[str], start: int) -> Tuple[int, Node]:\n",
    "        for_line = lines[start].strip()\n",
    "        match = re.match(r'FOR\\s+(\\w+)\\s+IN\\s+(.+)', for_line, re.IGNORECASE)\n",
    "        if not match:\n",
    "            raise ValueError(f\"Invalid FOR statement: {for_line}\")\n",
    "        \n",
    "        iterator, iterable = match.groups()\n",
    "        body_node = Node('LOOP_FOR')\n",
    "        \n",
    "        i = self.parse_block(lines, start + 1, body_node)\n",
    "        \n",
    "        return i, Node('FOR', {'iterator': iterator, 'iterable': iterable}, [body_node])\n",
    "    \n",
    "    def parse_list_creation(self, line: str) -> Node:\n",
    "        match = re.match(r'LIST\\s+(\\w+)(?:\\s*=\\s*\\[(.*?)\\])?', line, re.IGNORECASE)\n",
    "        if not match:\n",
    "            raise ValueError(f\"Invalid LIST creation: {line}\")\n",
    "        \n",
    "        list_name, initial_values = match.groups()\n",
    "        initial_values = [v.strip() for v in initial_values.split(',')] if initial_values else []\n",
    "        \n",
    "        return Node('LIST_CREATE', {'name': list_name, 'initial_values': initial_values})\n",
    "\n",
    "    def parse_list_append(self, line: str) -> Node:\n",
    "        match = re.match(r'APPEND\\s+(\\w+)\\s+(.+)', line, re.IGNORECASE)\n",
    "        if not match:\n",
    "            raise ValueError(f\"Invalid APPEND operation: {line}\")\n",
    "        \n",
    "        list_name, value = match.groups()\n",
    "        \n",
    "        return Node('LIST_APPEND', {'list': list_name, 'value': value})"
   ]
  },
  {
   "cell_type": "code",
   "execution_count": 5,
   "id": "1d190971",
   "metadata": {},
   "outputs": [
    {
     "data": {
      "text/plain": [
       "['ASSIGN',\n",
       " 'LIST_APPEND',\n",
       " 'LIST_CREATE',\n",
       " 'FOR',\n",
       " 'LOOP_FOR',\n",
       " 'WHILE',\n",
       " 'LOOP_WHILE',\n",
       " 'IF',\n",
       " 'TRUE_BLOCK',\n",
       " 'FALSE_BLOCK']"
      ]
     },
     "execution_count": 5,
     "metadata": {},
     "output_type": "execute_result"
    }
   ],
   "source": [
    "[\"ASSIGN\",\"LIST_APPEND\",\"LIST_CREATE\",\"FOR\", \"LOOP_FOR\",\"WHILE\",\"LOOP_WHILE\",\"IF\",\"TRUE_BLOCK\",\"FALSE_BLOCK\"]"
   ]
  },
  {
   "cell_type": "code",
   "execution_count": null,
   "id": "ec85664f",
   "metadata": {},
   "outputs": [],
   "source": []
  },
  {
   "cell_type": "code",
   "execution_count": 6,
   "id": "409f1c37",
   "metadata": {},
   "outputs": [
    {
     "name": "stdout",
     "output_type": "stream",
     "text": [
      "Warning: Function 'DISPLAY' called but not defined\n",
      "Warning: Function 'PRINT' called but not defined\n",
      "Node(type=ROOT, children=[\n",
      "    Node(type=ASSIGN, value={'variable': 'x', 'expression': '5;'}, children=[\n",
      "        Node(type=FUNCTION, value={'name': '5', 'args': []}, children=[]),\n",
      "    ]),\n",
      "    Node(type=FUNCTION_DEF, value={'name': 'calculate', 'params': ['a', 'b']}, children=[\n",
      "        Node(type=BLOCK, children=[\n",
      "            Node(type=ASSIGN, value={'variable': 'alpha', 'expression': 'a + b;'}, children=[\n",
      "                Node(type=FUNCTION, value={'name': 'A', 'args': ['+', 'b']}, children=[]),\n",
      "            ]),\n",
      "            Node(type=FUNCTION, value={'name': 'DISPLAY', 'args': []}, children=[]),\n",
      "        ]),\n",
      "    ]),\n",
      "    Node(type=ASSIGN, value={'variable': 'y', 'expression': 'calculate(x, 10);'}, children=[\n",
      "        Node(type=FUNCTION, value={'name': 'CALCULATE', 'args': ['(x,', '10)']}, children=[]),\n",
      "    ]),\n",
      "    Node(type=FUNCTION, value={'name': 'PRINT', 'args': ['y']}, children=[]),\n",
      "])\n",
      "\n",
      "Symbol Table Contents:\n",
      "Scope: global\n",
      "  x: variable\n",
      "  calculate: function\n",
      "  y: variable\n",
      "Scope: calculate\n",
      "  a: parameter\n",
      "  b: parameter\n",
      "  alpha: variable\n"
     ]
    }
   ],
   "source": [
    "\n",
    "parser = Parser()\n",
    "script = \"\"\"\n",
    "x = 5;\n",
    "DEF calculate(a, b)\n",
    "    alpha = a + b;\n",
    "    DISPLAY;\n",
    "END\n",
    "y = calculate(x, 10);\n",
    "PRINT y;\n",
    "\"\"\"\n",
    "\n",
    "root_node = parser.parse(script)\n",
    "print(root_node.format())\n",
    "\n",
    "# Print symbol table contents\n",
    "print(\"\\nSymbol Table Contents:\")\n",
    "for scope, symbols in parser.symbol_table.scopes.items():\n",
    "    print(f\"Scope: {scope}\")\n",
    "    for name, symbol in symbols.items():\n",
    "        print(f\"  {name}: {symbol.type}\")"
   ]
  },
  {
   "cell_type": "code",
   "execution_count": 7,
   "id": "42a150b2",
   "metadata": {},
   "outputs": [
    {
     "name": "stdout",
     "output_type": "stream",
     "text": [
      "Warning: Function 'DISPLAY' called but not defined\n",
      "Warning: Function 'PRINT' called but not defined\n",
      "Node(type=ROOT, children=[\n",
      "    Node(type=ASSIGN, value={'variable': 'x', 'expression': '5;'}, children=[\n",
      "        Node(type=FUNCTION, value={'name': '5', 'args': []}, children=[]),\n",
      "    ]),\n",
      "    Node(type=FUNCTION_DEF, value={'name': 'calculate', 'params': ['a', 'b']}, children=[\n",
      "        Node(type=BLOCK, children=[\n",
      "            Node(type=ASSIGN, value={'variable': 'alpha', 'expression': 'a + b;'}, children=[\n",
      "                Node(type=FUNCTION, value={'name': 'A', 'args': ['+', 'b']}, children=[]),\n",
      "            ]),\n",
      "            Node(type=FUNCTION, value={'name': 'DISPLAY', 'args': []}, children=[]),\n",
      "        ]),\n",
      "    ]),\n",
      "    Node(type=ASSIGN, value={'variable': 'y', 'expression': 'calculate(x, 10);'}, children=[\n",
      "        Node(type=FUNCTION, value={'name': 'CALCULATE', 'args': ['(x,', '10)']}, children=[]),\n",
      "    ]),\n",
      "    Node(type=FUNCTION, value={'name': 'PRINT', 'args': ['y']}, children=[]),\n",
      "])\n",
      "\n",
      "Symbol Table Contents:\n",
      "Scope: global\n",
      "  x: variable\n",
      "  calculate: function\n",
      "  y: variable\n",
      "Scope: calculate\n",
      "  a: parameter\n",
      "  b: parameter\n",
      "  alpha: variable\n"
     ]
    }
   ],
   "source": [
    "\n",
    "parser = Parser()\n",
    "script = \"\"\"\n",
    "x = 5;\n",
    "DEF calculate(a, b)\n",
    "    alpha = a + b;\n",
    "    DISPLAY;\n",
    "END\n",
    "y = calculate(x, 10);\n",
    "PRINT y;\n",
    "\"\"\"\n",
    "\n",
    "root_node = parser.parse(script)\n",
    "print(root_node.format())\n",
    "\n",
    "# Print symbol table contents\n",
    "print(\"\\nSymbol Table Contents:\")\n",
    "for scope, symbols in parser.symbol_table.scopes.items():\n",
    "    print(f\"Scope: {scope}\")\n",
    "    for name, symbol in symbols.items():\n",
    "        print(f\"  {name}: {symbol.type}\")"
   ]
  },
  {
   "cell_type": "code",
   "execution_count": 8,
   "id": "f58d5e6f",
   "metadata": {},
   "outputs": [
    {
     "data": {
      "image/png": "[encoded data removed]",
      "text/plain": [
       "<Figure size 360x360 with 2 Axes>"
      ]
     },
     "metadata": {
      "needs_background": "light"
     },
     "output_type": "display_data"
    }
   ],
   "source": [
    "path = \"/Users/saisur/Desktop/projects/arc/ARC-AGI/data/training/ce9e57f2.json\"\n",
    "with open(path,\"r\") as f:\n",
    "    data_ce9 = json.loads(f.read())\n",
    "img_mask = data_ce9[\"train\"][0][\"input\"]\n",
    "img_mask = np.array(img_mask)\n",
    "img_mask.shape\n",
    "input_img= Image(0,0,9,7,img_mask)\n",
    "display_matrix(input_img)"
   ]
  },
  {
   "cell_type": "code",
   "execution_count": 9,
   "id": "dcdcd6ea",
   "metadata": {},
   "outputs": [
    {
     "name": "stdout",
     "output_type": "stream",
     "text": [
      "Warning: Function 'DISPLAY' called but not defined\n",
      "Warning: Function 'SELECT' called but not defined\n",
      "Warning: Function 'FILL' called but not defined\n",
      "Warning: Function 'DISPLAY' called but not defined\n",
      "Warning: Function 'SELECT' called but not defined\n",
      "Warning: Function 'FILL' called but not defined\n",
      "Warning: Function 'DISPLAY' called but not defined\n",
      "Warning: Function 'DESELECT' called but not defined\n",
      "Warning: Function 'RETURN' called but not defined\n",
      "Node(type=ROOT, children=[\n",
      "    Node(type=ASSIGN, value={'variable': 'count', 'expression': 'COUNTCOL 2;'}, children=[\n",
      "        Node(type=FUNCTION, value={'name': 'COUNTCOL', 'args': ['2']}, children=[]),\n",
      "    ]),\n",
      "    Node(type=IF, value={'condition': 'count > 2 and count < 10'}, children=[\n",
      "        Node(type=TRUE_BLOCK, children=[\n",
      "            Node(type=FUNCTION, value={'name': 'DISPLAY', 'args': []}, children=[]),\n",
      "        ]),\n",
      "        Node(type=FALSE_BLOCK, children=[\n",
      "            Node(type=FUNCTION, value={'name': 'SELECT', 'args': ['0', '0', '4', '4']}, children=[]),\n",
      "            Node(type=FUNCTION, value={'name': 'FILL', 'args': ['4']}, children=[]),\n",
      "            Node(type=IF, value={'condition': '[count] > 3 and [count] < 9'}, children=[\n",
      "                Node(type=TRUE_BLOCK, children=[\n",
      "                    Node(type=FUNCTION, value={'name': 'DISPLAY', 'args': []}, children=[]),\n",
      "                ]),\n",
      "                Node(type=FALSE_BLOCK, children=[\n",
      "                    Node(type=FUNCTION, value={'name': 'SELECT', 'args': ['0', '0', '4', '4']}, children=[]),\n",
      "                    Node(type=FUNCTION, value={'name': 'FILL', 'args': ['3']}, children=[]),\n",
      "                ]),\n",
      "            ]),\n",
      "        ]),\n",
      "    ]),\n",
      "    Node(type=WHILE, value={'condition': 'count==3'}, children=[\n",
      "        Node(type=LOOP_WHILE, children=[\n",
      "            Node(type=FUNCTION, value={'name': 'DISPLAY', 'args': []}, children=[]),\n",
      "            Node(type=ASSIGN, value={'variable': 'count', 'expression': 'count +  1;'}, children=[\n",
      "                Node(type=FUNCTION, value={'name': 'COUNT', 'args': ['+', '1']}, children=[]),\n",
      "            ]),\n",
      "        ]),\n",
      "    ]),\n",
      "    Node(type=FUNCTION, value={'name': 'DESELECT', 'args': []}, children=[]),\n",
      "    Node(type=ASSIGN, value={'variable': 'S', 'expression': 'SPLIT DFS'}, children=[\n",
      "        Node(type=FUNCTION, value={'name': 'SPLIT', 'args': ['DFS']}, children=[]),\n",
      "    ]),\n",
      "    Node(type=LIST_CREATE, value={'name': 'li', 'initial_values': []}, children=[]),\n",
      "    Node(type=FOR, value={'iterator': 'I', 'iterable': 'S:'}, children=[\n",
      "        Node(type=LOOP_FOR, children=[\n",
      "            Node(type=LIST_APPEND, value={'list': 'li', 'value': 'i COUNT 2'}, children=[]),\n",
      "        ]),\n",
      "    ]),\n",
      "    Node(type=FUNCTION, value={'name': 'RETURN', 'args': ['MAX', 'li']}, children=[]),\n",
      "])\n",
      "\n",
      "Symbol Table Contents:\n",
      "Scope: global\n",
      "  count: variable\n",
      "  S: variable\n",
      "  li: list\n"
     ]
    }
   ],
   "source": [
    "parser = Parser()\n",
    "script = \"\"\"\n",
    "count = COUNTCOL 2;\n",
    "IF count > 2 and count < 10 \n",
    "    DISPLAY;\n",
    "ELSE\n",
    "    SELECT 0 0 4 4;\n",
    "    FILL 4;\n",
    "    IF [count] > 3 and [count] < 9 \n",
    "        DISPLAY;\n",
    "    ELSE\n",
    "        SELECT 0 0 4 4;\n",
    "        FILL 3;\n",
    "    END\n",
    "END\n",
    "WHILE count==3\n",
    "    DISPLAY;\n",
    "    count = count +  1;\n",
    "END \n",
    "DESELECT\n",
    "S = SPLIT DFS\n",
    "LIST li = []\n",
    "FOR I IN S:\n",
    "    APPEND li i COUNT 2\n",
    "END \n",
    "RETURN MAX li\n",
    "\"\"\"\n",
    "\n",
    "root_node = parser.parse(script)\n",
    "print(root_node.format())\n",
    "\n",
    "# Print symbol table contents\n",
    "print(\"\\nSymbol Table Contents:\")\n",
    "for scope, symbols in parser.symbol_table.scopes.items():\n",
    "    print(f\"Scope: {scope}\")\n",
    "    for name, symbol in symbols.items():\n",
    "        print(f\"  {name}: {symbol.type}\")"
   ]
  },
  {
   "cell_type": "code",
   "execution_count": 10,
   "id": "7f63601d",
   "metadata": {},
   "outputs": [],
   "source": [
    "from dsl_main import CommandMapper\n",
    "c = CommandMapper(input_img)\n"
   ]
  },
  {
   "cell_type": "code",
   "execution_count": 11,
   "id": "76b64a27",
   "metadata": {},
   "outputs": [],
   "source": [
    "i = root_node.children[0]"
   ]
  },
  {
   "cell_type": "code",
   "execution_count": 12,
   "id": "be00dab4",
   "metadata": {},
   "outputs": [
    {
     "data": {
      "text/plain": [
       "('ASSIGN',\n",
       " {'variable': 'count', 'expression': 'COUNTCOL 2;'},\n",
       " [Node(type=FUNCTION, value={'name': 'COUNTCOL', 'args': ['2']}, children=[])])"
      ]
     },
     "execution_count": 12,
     "metadata": {},
     "output_type": "execute_result"
    }
   ],
   "source": [
    "i.node_type, i.value, i.children"
   ]
  },
  {
   "cell_type": "code",
   "execution_count": 13,
   "id": "e12521a2",
   "metadata": {},
   "outputs": [
    {
     "data": {
      "text/plain": [
       "[{'variable': 'count', 'expression': 'COUNTCOL 2;'},\n",
       " {'condition': 'count > 2 and count < 10'},\n",
       " {'condition': 'count==3'},\n",
       " {'name': 'DESELECT', 'args': []},\n",
       " {'variable': 'S', 'expression': 'SPLIT DFS'},\n",
       " {'name': 'li', 'initial_values': []},\n",
       " {'iterator': 'I', 'iterable': 'S:'},\n",
       " {'name': 'RETURN', 'args': ['MAX', 'li']}]"
      ]
     },
     "execution_count": 13,
     "metadata": {},
     "output_type": "execute_result"
    }
   ],
   "source": [
    "[i.value for i in root_node.children]"
   ]
  },
  {
   "cell_type": "code",
   "execution_count": null,
   "id": "57f3243a",
   "metadata": {},
   "outputs": [],
   "source": []
  },
  {
   "cell_type": "code",
   "execution_count": 14,
   "id": "b9b12377",
   "metadata": {},
   "outputs": [
    {
     "data": {
      "text/plain": [
       "18"
      ]
     },
     "execution_count": 14,
     "metadata": {},
     "output_type": "execute_result"
    }
   ],
   "source": [
    "c.count([2])"
   ]
  },
  {
   "cell_type": "code",
   "execution_count": 15,
   "id": "41d11580",
   "metadata": {},
   "outputs": [
    {
     "name": "stdout",
     "output_type": "stream",
     "text": [
      "applying glip\n"
     ]
    },
    {
     "data": {
      "image/png": "[encoded data removed]",
      "text/plain": [
       "<Figure size 360x360 with 2 Axes>"
      ]
     },
     "metadata": {
      "needs_background": "light"
     },
     "output_type": "display_data"
    }
   ],
   "source": [
    "\n",
    "\n",
    "display_matrix(c.flip([\"VERTICAL\"]))"
   ]
  },
  {
   "cell_type": "code",
   "execution_count": 16,
   "id": "f2aa66b7",
   "metadata": {},
   "outputs": [
    {
     "data": {
      "image/png": "[encoded data removed]",
      "text/plain": [
       "<Figure size 360x360 with 2 Axes>"
      ]
     },
     "metadata": {
      "needs_background": "light"
     },
     "output_type": "display_data"
    }
   ],
   "source": [
    "display_matrix(input_img)"
   ]
  },
  {
   "cell_type": "code",
   "execution_count": 17,
   "id": "6c79177a",
   "metadata": {},
   "outputs": [],
   "source": [
    "from typing import List, Dict, Any\n",
    "import re\n",
    "from arclang.image import Image, Point\n",
    "\n",
    "class ExecutionEngine:\n",
    "    def __init__(self, input_img):\n",
    "        self.command_mapper = CommandMapper(input_img)\n",
    "        self.initial_image = input_img\n",
    "        self.variables = {}\n",
    "        self.current_image = input_img\n",
    "\n",
    "    def execute(self, root_node: Node) -> Image:\n",
    "        for child in root_node.children:\n",
    "            self.execute_node(child)\n",
    "        return self.current_image\n",
    "\n",
    "    def execute_node(self, node: Node) -> None:\n",
    "        if node.node_type == 'ASSIGN':\n",
    "            self.execute_assignment(node)\n",
    "        elif node.node_type == 'FUNCTION':\n",
    "            self.execute_function(node)\n",
    "        elif node.node_type == 'IF':\n",
    "            self.execute_if(node)\n",
    "        elif node.node_type == 'LOOP':\n",
    "            self.execute_loop(node)\n",
    "        elif node.node_type == 'EMPTY':\n",
    "            pass\n",
    "        else:\n",
    "            raise ValueError(f\"Unknown node type: {node.node_type}\")\n",
    "\n",
    "    def execute_assignment(self, node: Node) -> None:\n",
    "        var_name = node.value['variable']\n",
    "        expression = node.value['expression']\n",
    "        \n",
    "        if node.children and node.children[0].node_type == 'FUNCTION':\n",
    "            # If the assignment is a function call, execute it and store the result\n",
    "            self.execute_function(node.children[0])\n",
    "            self.variables[var_name] = self.current_image\n",
    "        else:\n",
    "            # Otherwise, evaluate the expression and store the result\n",
    "            self.variables[var_name] = self.evaluate_expression(expression)\n",
    "\n",
    "    def execute_function(self, node: Node) -> None:\n",
    "        func_name = node.value['name']\n",
    "        args = node.value['args']\n",
    "        \n",
    "        # Replace variable references with their values\n",
    "        args = [self.evaluate_expression(arg) if isinstance(arg, str) and arg in self.variables else arg for arg in args]\n",
    "        \n",
    "        if func_name in self.command_mapper.function_map:\n",
    "            # Execute the function and update the current image\n",
    "            self.current_image = self.command_mapper.function_map[func_name](args)\n",
    "        else:\n",
    "            raise ValueError(f\"Unknown function: {func_name}\")\n",
    "\n",
    "    def execute_if(self, node: Node) -> None:\n",
    "        condition = self.evaluate_condition(node.value['condition'])\n",
    "        print(condition)\n",
    "        if condition:\n",
    "            self.execute(node.children[0])\n",
    "        elif len(node.children) > 1:\n",
    "            self.execute(node.children[1])\n",
    "\n",
    "    def execute_loop(self, node: Node) -> None:\n",
    "        loop_type = node.value['type']\n",
    "        if loop_type == 'FOR':\n",
    "            self.execute_for_loop(node)\n",
    "        elif loop_type == 'WHILE':\n",
    "            self.execute_while_loop(node)\n",
    "        else:\n",
    "            raise ValueError(f\"Unknown loop type: {loop_type}\")\n",
    "\n",
    "    def execute_for_loop(self, node: Node) -> None:\n",
    "        var_name = node.value['variable']\n",
    "        start, end, step = node.value['range']\n",
    "        for i in range(start, end, step):\n",
    "            self.variables[var_name] = i\n",
    "            self.execute(node.children[0])\n",
    "\n",
    "    def execute_while_loop(self, node: Node) -> None:\n",
    "        while self.evaluate_condition(node.value['condition']):\n",
    "            self.execute(node.children[0])\n",
    "\n",
    "    def evaluate_expression(self, expression: str) -> Any:\n",
    "        if isinstance(expression, str):\n",
    "            try:\n",
    "                return eval(expression, {}, self.variables)\n",
    "            except:\n",
    "                return expression  # If it's not a valid Python expression, return as is\n",
    "        return expression\n",
    "\n",
    "    def evaluate_condition(self, condition: str) -> bool:\n",
    "        return bool(self.evaluate_expression(condition))"
   ]
  },
  {
   "cell_type": "code",
   "execution_count": 28,
   "id": "52ce4244",
   "metadata": {},
   "outputs": [
    {
     "name": "stdout",
     "output_type": "stream",
     "text": [
      "Warning: Function 'DISPLAY' called but not defined\n",
      "Warning: Function 'SELECT' called but not defined\n",
      "Warning: Function 'FILL' called but not defined\n",
      "Warning: Function 'DISPLAY' called but not defined\n",
      "Warning: Function 'FLIP' called but not defined\n",
      "Warning: Function 'DISPLAY' called but not defined\n"
     ]
    }
   ],
   "source": [
    "parser = Parser()\n",
    "script = \"\"\"\n",
    "DISPLAY;\n",
    "count = COUNTCOL 2;\n",
    "SELECT 0 0 4 4;\n",
    "FILL 4;\n",
    "DISPLAY;\n",
    "FLIP HORIZONTAL;\n",
    "DISPLAY;\n",
    "\"\"\"\n",
    "root_node = parser.parse(script)\n"
   ]
  },
  {
   "cell_type": "code",
   "execution_count": 29,
   "id": "3fe39f23",
   "metadata": {},
   "outputs": [],
   "source": [
    "e = ExecutionEngine(input_img)"
   ]
  },
  {
   "cell_type": "code",
   "execution_count": 30,
   "id": "1f0bbdf7",
   "metadata": {},
   "outputs": [
    {
     "data": {
      "text/plain": [
       "{}"
      ]
     },
     "execution_count": 30,
     "metadata": {},
     "output_type": "execute_result"
    }
   ],
   "source": [
    "e.variables"
   ]
  },
  {
   "cell_type": "code",
   "execution_count": 31,
   "id": "a00a9f4f",
   "metadata": {},
   "outputs": [
    {
     "name": "stdout",
     "output_type": "stream",
     "text": [
      "Node(type=ROOT, children=[\n",
      "    Node(type=FUNCTION, value={'name': 'DISPLAY', 'args': []}, children=[]),\n",
      "    Node(type=ASSIGN, value={'variable': 'count', 'expression': 'COUNTCOL 2;'}, children=[\n",
      "        Node(type=FUNCTION, value={'name': 'COUNTCOL', 'args': ['2']}, children=[]),\n",
      "    ]),\n",
      "    Node(type=FUNCTION, value={'name': 'SELECT', 'args': ['0', '0', '4', '4']}, children=[]),\n",
      "    Node(type=FUNCTION, value={'name': 'FILL', 'args': ['4']}, children=[]),\n",
      "    Node(type=FUNCTION, value={'name': 'DISPLAY', 'args': []}, children=[]),\n",
      "    Node(type=FUNCTION, value={'name': 'FLIP', 'args': ['HORIZONTAL']}, children=[]),\n",
      "    Node(type=FUNCTION, value={'name': 'DISPLAY', 'args': []}, children=[]),\n",
      "])\n"
     ]
    }
   ],
   "source": [
    "print(root_node.format())"
   ]
  },
  {
   "cell_type": "code",
   "execution_count": 32,
   "id": "cb5cbdfa",
   "metadata": {},
   "outputs": [
    {
     "data": {
      "image/png": "[encoded data removed]",
      "text/plain": [
       "<Figure size 360x360 with 2 Axes>"
      ]
     },
     "metadata": {
      "needs_background": "light"
     },
     "output_type": "display_data"
    },
    {
     "data": {
      "image/png": "[encoded data removed]",
      "text/plain": [
       "<Figure size 360x360 with 2 Axes>"
      ]
     },
     "metadata": {
      "needs_background": "light"
     },
     "output_type": "display_data"
    },
    {
     "data": {
      "image/png": "[encoded data removed]",
      "text/plain": [
       "<Figure size 360x360 with 2 Axes>"
      ]
     },
     "metadata": {
      "needs_background": "light"
     },
     "output_type": "display_data"
    },
    {
     "data": {
      "text/plain": [
       "<arclang.image.Image at 0x7fdaa1e5f220>"
      ]
     },
     "execution_count": 32,
     "metadata": {},
     "output_type": "execute_result"
    }
   ],
   "source": [
    "e.execute(root_node)"
   ]
  },
  {
   "cell_type": "code",
   "execution_count": 29,
   "id": "3ebdc275",
   "metadata": {},
   "outputs": [
    {
     "data": {
      "text/plain": [
       "{'count': 18}"
      ]
     },
     "execution_count": 29,
     "metadata": {},
     "output_type": "execute_result"
    }
   ],
   "source": [
    "e.variables"
   ]
  },
  {
   "cell_type": "code",
   "execution_count": null,
   "id": "45b4dc7c",
   "metadata": {},
   "outputs": [],
   "source": []
  },
  {
   "cell_type": "code",
   "execution_count": 126,
   "id": "cb96f22c",
   "metadata": {},
   "outputs": [
    {
     "data": {
      "text/plain": [
       "18"
      ]
     },
     "execution_count": 126,
     "metadata": {},
     "output_type": "execute_result"
    }
   ],
   "source": [
    "c.count([2,input_img])"
   ]
  },
  {
   "cell_type": "code",
   "execution_count": null,
   "id": "0382f303",
   "metadata": {},
   "outputs": [],
   "source": []
  },
  {
   "cell_type": "code",
   "execution_count": 26,
   "id": "aa714fd9",
   "metadata": {},
   "outputs": [],
   "source": [
    "root_node = parser.parse(script)"
   ]
  },
  {
   "cell_type": "code",
   "execution_count": 31,
   "id": "98c09f63",
   "metadata": {},
   "outputs": [],
   "source": [
    "# [i. for i in root_node.children]"
   ]
  },
  {
   "cell_type": "code",
   "execution_count": 153,
   "id": "b694f621",
   "metadata": {},
   "outputs": [],
   "source": []
  },
  {
   "cell_type": "code",
   "execution_count": null,
   "id": "9755eed9",
   "metadata": {},
   "outputs": [],
   "source": []
  },
  {
   "cell_type": "code",
   "execution_count": 15,
   "id": "acbce0e2",
   "metadata": {},
   "outputs": [
    {
     "name": "stdout",
     "output_type": "stream",
     "text": [
      "Warning: Function 'DISPLAY' called but not defined\n",
      "Warning: Function 'PRINT' called but not defined\n",
      "Node(type=ROOT, children=[\n",
      "    Node(type=ASSIGN, value={'variable': 'comp', 'expression': 'SPLIT'}, children=[]),\n",
      "    Node(type=FOR, value={'iterator': 'c', 'iterable': 'split'}, children=[\n",
      "        Node(type=LOOP_FOR, children=[\n",
      "            Node(type=FUNCTION_CALL, value={'name': 'DISPLAY', 'args': ['c']}, children=[]),\n",
      "        ]),\n",
      "    ]),\n",
      "    Node(type=FUNCTION_CALL, value={'name': 'PRINT', 'args': ['y']}, children=[]),\n",
      "])\n",
      "\n",
      "Symbol Table Contents:\n",
      "Scope: global\n",
      "  comp: variable\n"
     ]
    }
   ],
   "source": [
    "\n",
    "parser = Parser()\n",
    "script = \"\"\"\n",
    "comp = SPLIT\n",
    "FOR c in split\n",
    "    DISPLAY c\n",
    "END\n",
    "PRINT y;\n",
    "\"\"\"\n",
    "\n",
    "root_node = parser.parse(script)\n",
    "print(root_node.format())\n",
    "\n",
    "# Print symbol table contents\n",
    "print(\"\\nSymbol Table Contents:\")\n",
    "for scope, symbols in parser.symbol_table.scopes.items():\n",
    "    print(f\"Scope: {scope}\")\n",
    "    for name, symbol in symbols.items():\n",
    "        print(f\"  {name}: {symbol.type}\")"
   ]
  },
  {
   "cell_type": "code",
   "execution_count": 16,
   "id": "8e73f2f3",
   "metadata": {},
   "outputs": [
    {
     "name": "stdout",
     "output_type": "stream",
     "text": [
      "Warning: Function 'DISPLAY' called but not defined\n",
      "Warning: Function 'PRINT' called but not defined\n",
      "Node(type=ROOT, children=[\n",
      "    Node(type=ASSIGN, value={'variable': 'comp', 'expression': 'SPLIT'}, children=[]),\n",
      "    Node(type=FOR, value={'iterator': 'c', 'iterable': 'split'}, children=[\n",
      "        Node(type=LOOP_FOR, children=[\n",
      "            Node(type=FUNCTION_CALL, value={'name': 'DISPLAY', 'args': ['c']}, children=[]),\n",
      "        ]),\n",
      "    ]),\n",
      "    Node(type=FUNCTION_CALL, value={'name': 'PRINT', 'args': ['y']}, children=[]),\n",
      "])\n",
      "\n",
      "Symbol Table Contents:\n",
      "Scope: global\n",
      "  comp: variable\n"
     ]
    }
   ],
   "source": [
    "\n",
    "parser = Parser()\n",
    "script = \"\"\"\n",
    "comp = SPLIT\n",
    "FOR c in split\n",
    "    DISPLAY c\n",
    "END\n",
    "PRINT y;\n",
    "\"\"\"\n",
    "\n",
    "root_node = parser.parse(script)\n",
    "print(root_node.format())\n",
    "\n",
    "# Print symbol table contents\n",
    "print(\"\\nSymbol Table Contents:\")\n",
    "for scope, symbols in parser.symbol_table.scopes.items():\n",
    "    print(f\"Scope: {scope}\")\n",
    "    for name, symbol in symbols.items():\n",
    "        print(f\"  {name}: {symbol.type}\")"
   ]
  },
  {
   "cell_type": "code",
   "execution_count": 17,
   "id": "73ab2bed",
   "metadata": {},
   "outputs": [
    {
     "name": "stdout",
     "output_type": "stream",
     "text": [
      "Warning: Function 'DISPLAY' called but not defined\n",
      "Warning: Function 'DISPLAY' called but not defined\n",
      "Warning: Function 'SELECT' called but not defined\n",
      "Warning: Function 'FILL' called but not defined\n",
      "Warning: Function 'DISPLAY' called but not defined\n",
      "Warning: Function 'SELECT' called but not defined\n",
      "Warning: Function 'FILL' called but not defined\n",
      "Node(type=ROOT, children=[\n",
      "    Node(type=FUNCTION_CALL, value={'name': 'DISPLAY', 'args': []}, children=[]),\n",
      "    Node(type=ASSIGN, value={'variable': 'count', 'expression': 'COUNTCOL 2;'}, children=[]),\n",
      "    Node(type=FUNCTION_DEF, value={'name': 'calculate', 'params': ['a', 'b']}, children=[\n",
      "        Node(type=BLOCK, children=[\n",
      "            Node(type=IF, value={'condition': '[count] > 2 and [count] < 10'}, children=[\n",
      "                Node(type=TRUE_BLOCK, children=[\n",
      "                    Node(type=FUNCTION_CALL, value={'name': 'DISPLAY', 'args': []}, children=[]),\n",
      "                ]),\n",
      "                Node(type=FALSE_BLOCK, children=[\n",
      "                    Node(type=FUNCTION_CALL, value={'name': 'SELECT', 'args': ['0', '0', '4', '4']}, children=[]),\n",
      "                    Node(type=FUNCTION_CALL, value={'name': 'FILL', 'args': ['4']}, children=[]),\n",
      "                ]),\n",
      "            ]),\n",
      "        ]),\n",
      "    ]),\n",
      "    Node(type=IF, value={'condition': '[count > 2 and [count] < 10'}, children=[\n",
      "        Node(type=TRUE_BLOCK, children=[\n",
      "            Node(type=FUNCTION_CALL, value={'name': 'DISPLAY', 'args': []}, children=[]),\n",
      "        ]),\n",
      "        Node(type=FALSE_BLOCK, children=[\n",
      "            Node(type=FUNCTION_CALL, value={'name': 'SELECT', 'args': ['0', '0', '4', '4']}, children=[]),\n",
      "            Node(type=FUNCTION_CALL, value={'name': 'FILL', 'args': ['4']}, children=[]),\n",
      "        ]),\n",
      "    ]),\n",
      "])\n",
      "\n",
      "Symbol Table Contents:\n",
      "Scope: global\n",
      "  count: variable\n",
      "  calculate: function\n",
      "Scope: calculate\n",
      "  a: parameter\n",
      "  b: parameter\n"
     ]
    }
   ],
   "source": [
    "parser = Parser()\n",
    "script = \"\"\"\n",
    "DISPLAY;\n",
    "count = COUNTCOL 2;\n",
    "DEF calculate(a, b)\n",
    "    IF [count] > 2 and [count] < 10 \n",
    "        DISPLAY;\n",
    "    ELSE\n",
    "        SELECT 0 0 4 4;\n",
    "        FILL 4;\n",
    "    END\n",
    "END\n",
    "IF [count > 2 and [count] < 10 \n",
    "    DISPLAY;\n",
    "ELSE\n",
    "    SELECT 0 0 4 4;\n",
    "    FILL 4;\n",
    "END\n",
    "\n",
    "\"\"\"\n",
    "\n",
    "root_node = parser.parse(script)\n",
    "print(root_node.format())\n",
    "\n",
    "# Print symbol table contents\n",
    "print(\"\\nSymbol Table Contents:\")\n",
    "for scope, symbols in parser.symbol_table.scopes.items():\n",
    "    print(f\"Scope: {scope}\")\n",
    "    for name, symbol in symbols.items():\n",
    "        print(f\"  {name}: {symbol.type}\")"
   ]
  },
  {
   "cell_type": "code",
   "execution_count": 20,
   "id": "eba0d64f",
   "metadata": {},
   "outputs": [
    {
     "name": "stdout",
     "output_type": "stream",
     "text": [
      "Warning: Function 'DISPLAY' called but not defined\n",
      "Warning: Function 'SELECT' called but not defined\n",
      "Warning: Function 'FILL' called but not defined\n",
      "Warning: Function 'DISPLAY' called but not defined\n",
      "Warning: Function 'SELECT' called but not defined\n",
      "Warning: Function 'FILL' called but not defined\n",
      "Warning: Function 'DISPLAY' called but not defined\n",
      "Warning: Function 'DESELECT' called but not defined\n",
      "Warning: Function 'RETURN' called but not defined\n",
      "Node(type=ROOT, children=[\n",
      "    Node(type=ASSIGN, value={'variable': 'count', 'expression': 'COUNTCOL 2;'}, children=[]),\n",
      "    Node(type=IF, value={'condition': 'count > 2 and count < 10'}, children=[\n",
      "        Node(type=TRUE_BLOCK, children=[\n",
      "            Node(type=FUNCTION_CALL, value={'name': 'DISPLAY', 'args': []}, children=[]),\n",
      "        ]),\n",
      "        Node(type=FALSE_BLOCK, children=[\n",
      "            Node(type=FUNCTION_CALL, value={'name': 'SELECT', 'args': ['0', '0', '4', '4']}, children=[]),\n",
      "            Node(type=FUNCTION_CALL, value={'name': 'FILL', 'args': ['4']}, children=[]),\n",
      "            Node(type=IF, value={'condition': '[count] > 3 and [count] < 9'}, children=[\n",
      "                Node(type=TRUE_BLOCK, children=[\n",
      "                    Node(type=FUNCTION_CALL, value={'name': 'DISPLAY', 'args': []}, children=[]),\n",
      "                ]),\n",
      "                Node(type=FALSE_BLOCK, children=[\n",
      "                    Node(type=FUNCTION_CALL, value={'name': 'SELECT', 'args': ['0', '0', '4', '4']}, children=[]),\n",
      "                    Node(type=FUNCTION_CALL, value={'name': 'FILL', 'args': ['3']}, children=[]),\n",
      "                ]),\n",
      "            ]),\n",
      "        ]),\n",
      "    ]),\n",
      "    Node(type=WHILE, value={'condition': 'count==3'}, children=[\n",
      "        Node(type=LOOP_WHILE, children=[\n",
      "            Node(type=FUNCTION_CALL, value={'name': 'DISPLAY', 'args': []}, children=[]),\n",
      "            Node(type=ASSIGN, value={'variable': 'count', 'expression': 'count +  1;'}, children=[]),\n",
      "        ]),\n",
      "    ]),\n",
      "    Node(type=FUNCTION_CALL, value={'name': 'DESELECT', 'args': []}, children=[]),\n",
      "    Node(type=ASSIGN, value={'variable': 'S', 'expression': 'SPLIT DFS'}, children=[]),\n",
      "    Node(type=LIST_CREATE, value={'name': 'li', 'initial_values': []}, children=[]),\n",
      "    Node(type=FOR, value={'iterator': 'I', 'iterable': 'S:'}, children=[\n",
      "        Node(type=LOOP_FOR, children=[\n",
      "            Node(type=LIST_APPEND, value={'list': 'li', 'value': 'i COUNT 2'}, children=[]),\n",
      "        ]),\n",
      "    ]),\n",
      "    Node(type=FUNCTION_CALL, value={'name': 'RETURN', 'args': ['MAX', 'li']}, children=[]),\n",
      "])\n",
      "\n",
      "Symbol Table Contents:\n",
      "Scope: global\n",
      "  count: variable\n",
      "  S: variable\n",
      "  li: list\n"
     ]
    }
   ],
   "source": []
  },
  {
   "cell_type": "code",
   "execution_count": 19,
   "id": "767d2003",
   "metadata": {},
   "outputs": [
    {
     "name": "stdout",
     "output_type": "stream",
     "text": [
      "Warning: Function 'DISPLAY' called but not defined\n",
      "Node(type=ROOT, children=[\n",
      "    Node(type=WHILE, value={'condition': 'count==3'}, children=[\n",
      "        Node(type=LOOP_WHILE, children=[\n",
      "            Node(type=FUNCTION_CALL, value={'name': 'DISPLAY', 'args': []}, children=[]),\n",
      "            Node(type=ASSIGN, value={'variable': 'count', 'expression': 'count +  1;'}, children=[]),\n",
      "        ]),\n",
      "    ]),\n",
      "])\n",
      "\n",
      "Symbol Table Contents:\n",
      "Scope: global\n",
      "  count: variable\n"
     ]
    }
   ],
   "source": [
    "parser = Parser()\n",
    "script = \"\"\"\n",
    "WHILE count==3\n",
    "    DISPLAY;\n",
    "    count = count +  1;\n",
    "END \n",
    "\"\"\"\n",
    "\n",
    "root_node = parser.parse(script)\n",
    "print(root_node.format())\n",
    "\n",
    "# Print symbol table contents\n",
    "print(\"\\nSymbol Table Contents:\")\n",
    "for scope, symbols in parser.symbol_table.scopes.items():\n",
    "    print(f\"Scope: {scope}\")\n",
    "    for name, symbol in symbols.items():\n",
    "        print(f\"  {name}: {symbol.type}\")"
   ]
  },
  {
   "cell_type": "code",
   "execution_count": null,
   "id": "3aa94ab5",
   "metadata": {},
   "outputs": [],
   "source": []
  },
  {
   "cell_type": "code",
   "execution_count": null,
   "id": "7da61446",
   "metadata": {},
   "outputs": [],
   "source": []
  },
  {
   "cell_type": "code",
   "execution_count": null,
   "id": "709615bd",
   "metadata": {},
   "outputs": [],
   "source": []
  },
  {
   "cell_type": "code",
   "execution_count": 25,
   "id": "450cbeac",
   "metadata": {},
   "outputs": [],
   "source": [
    "class ExecutionEngine:\n",
    "    def __init__(self, image: Image):\n",
    "        self.image = image\n",
    "        self.parser = Parser()\n",
    "        self.mapper = CommandMapper(image)\n",
    "        self.variable_map = {}\n",
    "    \n",
    "    def execute(self, script: str) -> Image:\n",
    "        commands = self.parser.parse(script)\n",
    "        print(commands.format())\n",
    "        return self.image\n",
    "    \n",
    "    def execute_commands(self, commands: List[Dict[str, Any]]):\n",
    "        for command in commands:\n",
    "            self.execute_command(command)\n",
    "    \n",
    "    def execute_command(self, command: Dict[str, Any]):\n",
    "        if command['type'] == 'ASSIGN':\n",
    "            self.execute_assignment(command)\n",
    "        elif command['type'] == 'FUNCTION':\n",
    "            self.execute_function(command)\n",
    "        elif command['type'] == 'IF':\n",
    "            self.execute_if(command)\n",
    "    \n",
    "    def execute_assignment(self, command: Dict[str, Any]):\n",
    "        var_name = command['variable']\n",
    "        expression = command['expression']\n",
    "        value = self.evaluate_expression(expression)\n",
    "        self.variable_map[var_name] = value\n",
    "    \n",
    "\n",
    "    def execute_function(self, command: Dict[str, Any]):\n",
    "        func_name = command['name']\n",
    "        args = command['args']\n",
    "        \n",
    "        if func_name in self.mapper.function_map:\n",
    "            func = self.mapper.function_map[func_name](args)\n",
    "            if func_name in RETURN_FUNCTIONS:\n",
    "                result = func(self.image)\n",
    "                print(f\"Function {func_name} returned: {result}\")\n",
    "                return result\n",
    "            else:\n",
    "                self.image = func(self.image)\n",
    "        else:\n",
    "            raise ValueError(f\"Unknown function: {func_name}\")\n",
    " \n",
    "                \n",
    "    def execute_if(self, command: Dict[str, Any]):\n",
    "        condition = command['condition']\n",
    "        if self.evaluate_condition(condition):\n",
    "            self.execute_commands(command['true_block'])\n",
    "        elif command['false_block']:\n",
    "            self.execute_commands(command['false_block'])\n",
    "\n"
   ]
  },
  {
   "cell_type": "code",
   "execution_count": 26,
   "id": "2942cb02",
   "metadata": {},
   "outputs": [
    {
     "data": {
      "image/png": "[encoded data removed]",
      "text/plain": [
       "<Figure size 360x360 with 2 Axes>"
      ]
     },
     "metadata": {
      "needs_background": "light"
     },
     "output_type": "display_data"
    }
   ],
   "source": [
    "path = \"/Users/saisur/Desktop/projects/arc/ARC-AGI/data/training/ce9e57f2.json\"\n",
    "with open(path,\"r\") as f:\n",
    "    data_ce9 = json.loads(f.read())\n",
    "img_mask = data_ce9[\"train\"][0][\"input\"]\n",
    "img_mask = np.array(img_mask)\n",
    "img_mask.shape\n",
    "input_img= Image(0,0,9,7,img_mask)\n",
    "display_matrix(input_img)"
   ]
  },
  {
   "cell_type": "code",
   "execution_count": 27,
   "id": "cfa76875",
   "metadata": {},
   "outputs": [
    {
     "data": {
      "text/plain": [
       "<__main__.ExecutionEngine at 0x7fcdf83697b0>"
      ]
     },
     "execution_count": 27,
     "metadata": {},
     "output_type": "execute_result"
    }
   ],
   "source": [
    "engine = ExecutionEngine(input_img)\n",
    "engine "
   ]
  },
  {
   "cell_type": "code",
   "execution_count": null,
   "id": "35b7bfb8",
   "metadata": {},
   "outputs": [],
   "source": []
  },
  {
   "cell_type": "code",
   "execution_count": null,
   "id": "eacc3eea",
   "metadata": {},
   "outputs": [],
   "source": []
  },
  {
   "cell_type": "code",
   "execution_count": 28,
   "id": "93a76d9a",
   "metadata": {},
   "outputs": [
    {
     "name": "stdout",
     "output_type": "stream",
     "text": [
      "Warning: Function 'DISPLAY' called but not defined\n",
      "Warning: Function 'SELECT' called but not defined\n",
      "Warning: Function 'FILL' called but not defined\n",
      "Warning: Function 'DISPLAY' called but not defined\n",
      "Warning: Function 'SELECT' called but not defined\n",
      "Warning: Function 'FILL' called but not defined\n",
      "Warning: Function 'DISPLAY' called but not defined\n",
      "Warning: Function 'DESELECT' called but not defined\n",
      "Warning: Function 'RETURN' called but not defined\n",
      "Node(type=ROOT, children=[\n",
      "    Node(type=ASSIGN, value={'variable': 'count', 'expression': 'COUNTCOL 2;'}, children=[]),\n",
      "    Node(type=IF, value={'condition': 'count > 2 and count < 10'}, children=[\n",
      "        Node(type=TRUE_BLOCK, children=[\n",
      "            Node(type=FUNCTION_CALL, value={'name': 'DISPLAY', 'args': []}, children=[]),\n",
      "        ]),\n",
      "        Node(type=FALSE_BLOCK, children=[\n",
      "            Node(type=FUNCTION_CALL, value={'name': 'SELECT', 'args': ['0', '0', '4', '4']}, children=[]),\n",
      "            Node(type=FUNCTION_CALL, value={'name': 'FILL', 'args': ['4']}, children=[]),\n",
      "            Node(type=IF, value={'condition': '[count] > 3 and [count] < 9'}, children=[\n",
      "                Node(type=TRUE_BLOCK, children=[\n",
      "                    Node(type=FUNCTION_CALL, value={'name': 'DISPLAY', 'args': []}, children=[]),\n",
      "                ]),\n",
      "                Node(type=FALSE_BLOCK, children=[\n",
      "                    Node(type=FUNCTION_CALL, value={'name': 'SELECT', 'args': ['0', '0', '4', '4']}, children=[]),\n",
      "                    Node(type=FUNCTION_CALL, value={'name': 'FILL', 'args': ['3']}, children=[]),\n",
      "                ]),\n",
      "            ]),\n",
      "        ]),\n",
      "    ]),\n",
      "    Node(type=WHILE, value={'condition': 'count==3'}, children=[\n",
      "        Node(type=LOOP_WHILE, children=[\n",
      "            Node(type=FUNCTION_CALL, value={'name': 'DISPLAY', 'args': []}, children=[]),\n",
      "            Node(type=ASSIGN, value={'variable': 'count', 'expression': 'count +  1;'}, children=[]),\n",
      "        ]),\n",
      "    ]),\n",
      "    Node(type=FUNCTION_CALL, value={'name': 'DESELECT', 'args': []}, children=[]),\n",
      "    Node(type=ASSIGN, value={'variable': 'S', 'expression': 'SPLIT DFS'}, children=[]),\n",
      "    Node(type=LIST_CREATE, value={'name': 'li', 'initial_values': []}, children=[]),\n",
      "    Node(type=FOR, value={'iterator': 'I', 'iterable': 'S:'}, children=[\n",
      "        Node(type=LOOP_FOR, children=[\n",
      "            Node(type=LIST_APPEND, value={'list': 'li', 'value': 'i COUNT 2'}, children=[]),\n",
      "        ]),\n",
      "    ]),\n",
      "    Node(type=FUNCTION_CALL, value={'name': 'RETURN', 'args': ['MAX', 'li']}, children=[]),\n",
      "])\n"
     ]
    },
    {
     "data": {
      "text/plain": [
       "<arclang.image.Image at 0x7fce19b70df0>"
      ]
     },
     "execution_count": 28,
     "metadata": {},
     "output_type": "execute_result"
    }
   ],
   "source": [
    "engine.execute(script)"
   ]
  },
  {
   "cell_type": "code",
   "execution_count": null,
   "id": "1012efea",
   "metadata": {},
   "outputs": [],
   "source": []
  },
  {
   "cell_type": "code",
   "execution_count": null,
   "id": "eae234ce",
   "metadata": {},
   "outputs": [],
   "source": [
    "parser = Parser()\n",
    "script = \"\"\"\n",
    "count = COUNTCOL 2;\n",
    "IF [count] > 2 and [count] < 10 \n",
    "    DISPLAY;\n",
    "ELSE\n",
    "    SELECT 0 0 4 4;\n",
    "    FILL 4;\n",
    "END"
   ]
  }
 ],
 "metadata": {
  "kernelspec": {
   "display_name": "python311",
   "language": "python",
   "name": "python311"
  },
  "language_info": {
   "codemirror_mode": {
    "name": "ipython",
    "version": 3
   },
   "file_extension": ".py",
   "mimetype": "text/x-python",
   "name": "python",
   "nbconvert_exporter": "python",
   "pygments_lexer": "ipython3",
   "version": "3.10.4"
  }
 },
 "nbformat": 4,
 "nbformat_minor": 5
}
