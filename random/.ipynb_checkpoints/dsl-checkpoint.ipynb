{
 "cells": [
  {
   "cell_type": "code",
   "execution_count": 1,
   "metadata": {},
   "outputs": [],
   "source": [
    "import numpy as np\n",
    "from functools import reduce\n",
    "from collections import namedtuple\n",
    "from typing import List, Tuple, Union,Dict\n",
    "import json\n",
    "import re\n",
    "\n",
    "MAXSIDE = 100\n",
    "MAXAREA = 40 * 40\n",
    "MAXPIXELS = 40 * 40 * 5\n",
    "\n",
    "import sys\n",
    "import os\n",
    "\n",
    "sys.path.append(os.path.abspath(os.path.join('..', 'src', 'arclang')))\n",
    "sys.path.append(os.path.abspath(os.path.join('..', 'src')))\n",
    "\n",
    "from image import Image, Point\n",
    "from function import *\n",
    "from dsl import *"
   ]
  },
  {
   "cell_type": "code",
   "execution_count": 2,
   "metadata": {},
   "outputs": [
    {
     "data": {
      "image/png": "[encoded data removed]",
      "text/plain": [
       "<Figure size 360x360 with 2 Axes>"
      ]
     },
     "metadata": {
      "needs_background": "light"
     },
     "output_type": "display_data"
    }
   ],
   "source": [
    "path = \"/Users/saisur/Desktop/projects/arc/ARC-AGI/data/training/ce9e57f2.json\"\n",
    "with open(path,\"r\") as f:\n",
    "    data_ce9 = json.loads(f.read())\n",
    "img_mask = data_ce9[\"train\"][0][\"input\"]\n",
    "img_mask = np.array(img_mask)\n",
    "img_mask.shape\n",
    "input_img= Image(0,0,9,7,img_mask)\n",
    "display_matrix(input_img)"
   ]
  },
  {
   "cell_type": "code",
   "execution_count": 25,
   "metadata": {},
   "outputs": [],
   "source": [
    "x = \"\"\"DISPLAY;\n",
    "REPLACECOL 2 3;\n",
    "DISPLAY;\"\"\""
   ]
  },
  {
   "cell_type": "code",
   "execution_count": null,
   "metadata": {},
   "outputs": [],
   "source": []
  },
  {
   "cell_type": "code",
   "execution_count": 28,
   "metadata": {},
   "outputs": [],
   "source": [
    "x = \"\"\"IF [count] > 2\n",
    "    DISPLAY;\n",
    "ELSE\n",
    "    SELECT 0 0 100 100;\n",
    "    FILL 255;\n",
    "END\"\"\"\n"
   ]
  },
  {
   "cell_type": "code",
   "execution_count": 30,
   "metadata": {},
   "outputs": [
    {
     "ename": "NameError",
     "evalue": "name 'lines' is not defined",
     "output_type": "error",
     "traceback": [
      "\u001b[0;31m---------------------------------------------------------------------------\u001b[0m",
      "\u001b[0;31mNameError\u001b[0m                                 Traceback (most recent call last)",
      "Input \u001b[0;32mIn [30]\u001b[0m, in \u001b[0;36m<cell line: 12>\u001b[0;34m()\u001b[0m\n\u001b[1;32m      9\u001b[0m current_block \u001b[38;5;241m=\u001b[39m true_block\n\u001b[1;32m     10\u001b[0m i \u001b[38;5;241m=\u001b[39m \u001b[38;5;241m0\u001b[39m\n\u001b[0;32m---> 12\u001b[0m \u001b[38;5;28;01mwhile\u001b[39;00m i \u001b[38;5;241m<\u001b[39m \u001b[38;5;28mlen\u001b[39m(\u001b[43mlines\u001b[49m):\n\u001b[1;32m     13\u001b[0m     line \u001b[38;5;241m=\u001b[39m lines[i]\u001b[38;5;241m.\u001b[39mstrip()\n\u001b[1;32m     14\u001b[0m     \u001b[38;5;28;01mif\u001b[39;00m line\u001b[38;5;241m.\u001b[39mupper() \u001b[38;5;241m==\u001b[39m \u001b[38;5;124m'\u001b[39m\u001b[38;5;124mELSE\u001b[39m\u001b[38;5;124m'\u001b[39m:\n",
      "\u001b[0;31mNameError\u001b[0m: name 'lines' is not defined"
     ]
    }
   ],
   "source": [
    "if_line = x.strip()\n",
    "match = re.match(r'IF\\s+(.+)', if_line)\n",
    "if not match:\n",
    "    raise ValueError(f\"Invalid IF statement: {if_line}\")\n",
    "\n",
    "condition = match.group(1)\n",
    "true_block = []\n",
    "false_block = []\n",
    "current_block = true_block\n",
    "i = 0\n",
    "\n",
    "while i < len(lines):\n",
    "    line = lines[i].strip()\n",
    "    if line.upper() == 'ELSE':\n",
    "        current_block = false_block\n",
    "    elif line.upper() == 'END':\n",
    "        break\n",
    "    elif line:  # Only add non-empty lines\n",
    "        current_block.append(line)\n",
    "    i += 1"
   ]
  },
  {
   "cell_type": "code",
   "execution_count": 3,
   "metadata": {},
   "outputs": [],
   "source": [
    "# # initial_image = Image(0, 0, 12, 12)\n",
    "# engine = SQLExecutionEngine(input_img)\n",
    "# sql_commands = \"\"\"\n",
    "# DISPLAY;\n",
    "# REPLACECOL 2 3;\n",
    "# DISPLAY;\n",
    "# \"\"\"\n",
    "\n",
    "# result_image = engine.execute(sql_commands)"
   ]
  },
  {
   "cell_type": "code",
   "execution_count": 18,
   "metadata": {},
   "outputs": [],
   "source": [
    "class Parser:\n",
    "    def __init__(self):\n",
    "        self.commands = []\n",
    "\n",
    "    def parse(self, script: str) -> List[Dict[str, Any]]:\n",
    "        lines = script.split(';')\n",
    "        i = 0\n",
    "        while i < len(lines):\n",
    "            line = lines[i].strip()\n",
    "            if not line:\n",
    "                i += 1\n",
    "                continue\n",
    "            \n",
    "            if '=' in line:\n",
    "                self.parse_assignment(line)\n",
    "            elif line.upper().startswith('IF'):\n",
    "                i = self.parse_if_block(lines, i)\n",
    "            else:\n",
    "                self.parse_function_call(line)\n",
    "            i += 1\n",
    "        \n",
    "        return self.commands\n",
    "\n",
    "    def parse_assignment(self, line: str):\n",
    "        var_name, expression = map(str.strip, line.split('='))\n",
    "        self.commands.append({\n",
    "            'type': 'ASSIGN',\n",
    "            'variable': var_name,\n",
    "            'expression': expression\n",
    "        })\n",
    "\n",
    "    def parse_function_call(self, line: str):\n",
    "        match = re.match(r'(\\w+)\\s*(.*)', line)\n",
    "        if not match:\n",
    "            raise ValueError(f\"Invalid function call: {line}\")\n",
    "        \n",
    "        func_name, args_str = match.groups()\n",
    "        args = [arg.strip() for arg in args_str.split()] if args_str else []\n",
    "        \n",
    "        self.commands.append({\n",
    "            'type': 'FUNCTION',\n",
    "            'name': func_name.upper(),\n",
    "            'args': args\n",
    "        })\n",
    "\n",
    "    def parse_if_block(self, lines: List[str], start: int) -> int:\n",
    "        if_line = lines[start].strip()\n",
    "        match = re.match(r'IF\\s+(.+)', if_line)\n",
    "        if not match:\n",
    "            raise ValueError(f\"Invalid IF statement: {if_line}\")\n",
    "        \n",
    "        condition = match.group(1)\n",
    "        true_block = []\n",
    "        false_block = []\n",
    "        current_block = true_block\n",
    "        i = start + 1\n",
    "\n",
    "        while i < len(lines):\n",
    "            line = lines[i].strip()\n",
    "            if line.upper() == 'ELSE':\n",
    "                current_block = false_block\n",
    "            elif line.upper() == 'END':\n",
    "                break\n",
    "            elif line:  # Only add non-empty lines\n",
    "                current_block.append(line)\n",
    "            i += 1\n",
    "#         if i == len(lines)-1:\n",
    "#             raise ValueError(\"IF block not properly closed with END\")\n",
    "\n",
    "        self.commands.append({\n",
    "            'type': 'IF',\n",
    "            'condition': condition,\n",
    "            'true_block': self.parse('\\n'.join(true_block)),\n",
    "            'false_block': self.parse('\\n'.join(false_block))\n",
    "        })\n",
    "\n",
    "        return i  # Return the index of 'END'"
   ]
  },
  {
   "cell_type": "code",
   "execution_count": 19,
   "metadata": {},
   "outputs": [],
   "source": [
    "\n",
    "\n",
    "class ExecutionEngine:\n",
    "    def __init__(self, image: Image):\n",
    "        self.image = image\n",
    "        self.parser = Parser()\n",
    "        self.mapper = CommandMapper(image)\n",
    "        self.variable_map = {}\n",
    "\n",
    "    def execute(self, script: str) -> Image:\n",
    "        commands = self.parser.parse(script)\n",
    "        self.execute_commands(commands)\n",
    "        return self.image\n",
    "\n",
    "    def execute_commands(self, commands: List[Dict[str, Any]]):\n",
    "        for command in commands:\n",
    "            self.execute_command(command)\n",
    "\n",
    "    def execute_command(self, command: Dict[str, Any]):\n",
    "        if command['type'] == 'ASSIGN':\n",
    "            self.execute_assignment(command)\n",
    "        elif command['type'] == 'FUNCTION':\n",
    "            self.execute_function(command)\n",
    "        elif command['type'] == 'IF':\n",
    "            self.execute_if(command)\n",
    "\n",
    "    def execute_assignment(self, command: Dict[str, Any]):\n",
    "        var_name = command['variable']\n",
    "        expression = command['expression']\n",
    "        value = self.evaluate_expression(expression)\n",
    "        self.variable_map[var_name] = value\n",
    "\n",
    "    def execute_function(self, command: Dict[str, Any]):\n",
    "        func_name = command['name']\n",
    "        args = command['args']\n",
    "        \n",
    "        if func_name in self.mapper.function_map:\n",
    "            func = self.mapper.function_map[func_name](args)\n",
    "            if func_name in RETURN_FUNCTIONS:\n",
    "                result = func(self.image)\n",
    "                print(f\"Function {func_name} returned: {result}\")\n",
    "                return result\n",
    "            else:\n",
    "                self.image = func(self.image)\n",
    "        else:\n",
    "            raise ValueError(f\"Unknown function: {func_name}\")\n",
    "            \n",
    "    def execute_if(self, command: Dict[str, Any]):\n",
    "        condition = command['condition']\n",
    "        if self.evaluate_condition(condition):\n",
    "            self.execute_commands(command['true_block'])\n",
    "        elif command['false_block']:\n",
    "            self.execute_commands(command['false_block'])\n",
    "\n",
    "\n",
    "    def evaluate_condition(self, condition: str) -> bool:\n",
    "        parts = condition.split()\n",
    "        if len(parts) != 3:\n",
    "            raise ValueError(f\"Invalid condition: {condition}\")\n",
    "        \n",
    "        left, operator, right = parts\n",
    "        left_value = self.evaluate_expression(left)\n",
    "        right_value = self.evaluate_expression(right)\n",
    "        \n",
    "        # Convert to the same type for comparison\n",
    "        if isinstance(left_value, str) or isinstance(right_value, str):\n",
    "            left_value = str(left_value)\n",
    "            right_value = str(right_value)\n",
    "        else:\n",
    "            try:\n",
    "                left_value = float(left_value)\n",
    "                right_value = float(right_value)\n",
    "            except ValueError:\n",
    "                left_value = str(left_value)\n",
    "                right_value = str(right_value)\n",
    "        \n",
    "        if operator == '==':\n",
    "            return left_value == right_value\n",
    "        elif operator == '!=':\n",
    "            return left_value != right_value\n",
    "        elif operator == '<':\n",
    "            return left_value < right_value\n",
    "        elif operator == '<=':\n",
    "            return left_value <= right_value\n",
    "        elif operator == '>':\n",
    "            return left_value > right_value\n",
    "        elif operator == '>=':\n",
    "            return left_value >= right_value\n",
    "        else:\n",
    "            raise ValueError(f\"Unknown operator: {operator}\")\n",
    "\n",
    "    def evaluate_expression(self, expr: str) -> Any:\n",
    "        if expr.startswith('[') and expr.endswith(']'):\n",
    "            var_name = expr[1:-1]\n",
    "            if var_name not in self.variable_map:\n",
    "                raise ValueError(f\"Unknown variable: {var_name}\")\n",
    "            return self.variable_map[var_name]\n",
    "        elif expr.upper() in RETURN_FUNCTIONS:\n",
    "            return self.execute_function({'name': expr.upper(), 'args': []})\n",
    "        try:\n",
    "            return int(expr)\n",
    "        except ValueError:\n",
    "            try:\n",
    "                return float(expr)\n",
    "            except ValueError:\n",
    "                return expr\n",
    "\n",
    "# # Example usage\n",
    "# engine = ExecutionEngine(input_img)\n",
    "# script = \"\"\"\n",
    "# count = COUNTCOL 2;\n",
    "# IF [count] > 2\n",
    "#     DISPLAY;\n",
    "# END\n",
    "# \"\"\"\n",
    "# result_image = engine.execute(script)"
   ]
  },
  {
   "cell_type": "code",
   "execution_count": 20,
   "metadata": {},
   "outputs": [],
   "source": [
    "RETURN_FUNCTIONS = [\"COUNTCOL\"]"
   ]
  },
  {
   "cell_type": "code",
   "execution_count": 21,
   "metadata": {
    "scrolled": false
   },
   "outputs": [
    {
     "ename": "ValueError",
     "evalue": "Unknown function: ELSE",
     "output_type": "error",
     "traceback": [
      "\u001b[0;31m---------------------------------------------------------------------------\u001b[0m",
      "\u001b[0;31mValueError\u001b[0m                                Traceback (most recent call last)",
      "Input \u001b[0;32mIn [21]\u001b[0m, in \u001b[0;36m<cell line: 11>\u001b[0;34m()\u001b[0m\n\u001b[1;32m      1\u001b[0m engine \u001b[38;5;241m=\u001b[39m ExecutionEngine(input_img)\n\u001b[1;32m      2\u001b[0m script \u001b[38;5;241m=\u001b[39m \u001b[38;5;124m\"\"\"\u001b[39m\n\u001b[1;32m      3\u001b[0m \u001b[38;5;124mcount = COUNTCOL 2;\u001b[39m\n\u001b[1;32m      4\u001b[0m \u001b[38;5;124mIF [count] > 2\u001b[39m\n\u001b[0;32m   (...)\u001b[0m\n\u001b[1;32m      9\u001b[0m \u001b[38;5;124mEND\u001b[39m\n\u001b[1;32m     10\u001b[0m \u001b[38;5;124m\"\"\"\u001b[39m\n\u001b[0;32m---> 11\u001b[0m result_image \u001b[38;5;241m=\u001b[39m \u001b[43mengine\u001b[49m\u001b[38;5;241;43m.\u001b[39;49m\u001b[43mexecute\u001b[49m\u001b[43m(\u001b[49m\u001b[43mscript\u001b[49m\u001b[43m)\u001b[49m\n",
      "Input \u001b[0;32mIn [19]\u001b[0m, in \u001b[0;36mExecutionEngine.execute\u001b[0;34m(self, script)\u001b[0m\n\u001b[1;32m      8\u001b[0m \u001b[38;5;28;01mdef\u001b[39;00m \u001b[38;5;21mexecute\u001b[39m(\u001b[38;5;28mself\u001b[39m, script: \u001b[38;5;28mstr\u001b[39m) \u001b[38;5;241m-\u001b[39m\u001b[38;5;241m>\u001b[39m Image:\n\u001b[1;32m      9\u001b[0m     commands \u001b[38;5;241m=\u001b[39m \u001b[38;5;28mself\u001b[39m\u001b[38;5;241m.\u001b[39mparser\u001b[38;5;241m.\u001b[39mparse(script)\n\u001b[0;32m---> 10\u001b[0m     \u001b[38;5;28;43mself\u001b[39;49m\u001b[38;5;241;43m.\u001b[39;49m\u001b[43mexecute_commands\u001b[49m\u001b[43m(\u001b[49m\u001b[43mcommands\u001b[49m\u001b[43m)\u001b[49m\n\u001b[1;32m     11\u001b[0m     \u001b[38;5;28;01mreturn\u001b[39;00m \u001b[38;5;28mself\u001b[39m\u001b[38;5;241m.\u001b[39mimage\n",
      "Input \u001b[0;32mIn [19]\u001b[0m, in \u001b[0;36mExecutionEngine.execute_commands\u001b[0;34m(self, commands)\u001b[0m\n\u001b[1;32m     13\u001b[0m \u001b[38;5;28;01mdef\u001b[39;00m \u001b[38;5;21mexecute_commands\u001b[39m(\u001b[38;5;28mself\u001b[39m, commands: List[Dict[\u001b[38;5;28mstr\u001b[39m, Any]]):\n\u001b[1;32m     14\u001b[0m     \u001b[38;5;28;01mfor\u001b[39;00m command \u001b[38;5;129;01min\u001b[39;00m commands:\n\u001b[0;32m---> 15\u001b[0m         \u001b[38;5;28;43mself\u001b[39;49m\u001b[38;5;241;43m.\u001b[39;49m\u001b[43mexecute_command\u001b[49m\u001b[43m(\u001b[49m\u001b[43mcommand\u001b[49m\u001b[43m)\u001b[49m\n",
      "Input \u001b[0;32mIn [19]\u001b[0m, in \u001b[0;36mExecutionEngine.execute_command\u001b[0;34m(self, command)\u001b[0m\n\u001b[1;32m     19\u001b[0m     \u001b[38;5;28mself\u001b[39m\u001b[38;5;241m.\u001b[39mexecute_assignment(command)\n\u001b[1;32m     20\u001b[0m \u001b[38;5;28;01melif\u001b[39;00m command[\u001b[38;5;124m'\u001b[39m\u001b[38;5;124mtype\u001b[39m\u001b[38;5;124m'\u001b[39m] \u001b[38;5;241m==\u001b[39m \u001b[38;5;124m'\u001b[39m\u001b[38;5;124mFUNCTION\u001b[39m\u001b[38;5;124m'\u001b[39m:\n\u001b[0;32m---> 21\u001b[0m     \u001b[38;5;28;43mself\u001b[39;49m\u001b[38;5;241;43m.\u001b[39;49m\u001b[43mexecute_function\u001b[49m\u001b[43m(\u001b[49m\u001b[43mcommand\u001b[49m\u001b[43m)\u001b[49m\n\u001b[1;32m     22\u001b[0m \u001b[38;5;28;01melif\u001b[39;00m command[\u001b[38;5;124m'\u001b[39m\u001b[38;5;124mtype\u001b[39m\u001b[38;5;124m'\u001b[39m] \u001b[38;5;241m==\u001b[39m \u001b[38;5;124m'\u001b[39m\u001b[38;5;124mIF\u001b[39m\u001b[38;5;124m'\u001b[39m:\n\u001b[1;32m     23\u001b[0m     \u001b[38;5;28mself\u001b[39m\u001b[38;5;241m.\u001b[39mexecute_if(command)\n",
      "Input \u001b[0;32mIn [19]\u001b[0m, in \u001b[0;36mExecutionEngine.execute_function\u001b[0;34m(self, command)\u001b[0m\n\u001b[1;32m     42\u001b[0m         \u001b[38;5;28mself\u001b[39m\u001b[38;5;241m.\u001b[39mimage \u001b[38;5;241m=\u001b[39m func(\u001b[38;5;28mself\u001b[39m\u001b[38;5;241m.\u001b[39mimage)\n\u001b[1;32m     43\u001b[0m \u001b[38;5;28;01melse\u001b[39;00m:\n\u001b[0;32m---> 44\u001b[0m     \u001b[38;5;28;01mraise\u001b[39;00m \u001b[38;5;167;01mValueError\u001b[39;00m(\u001b[38;5;124mf\u001b[39m\u001b[38;5;124m\"\u001b[39m\u001b[38;5;124mUnknown function: \u001b[39m\u001b[38;5;132;01m{\u001b[39;00mfunc_name\u001b[38;5;132;01m}\u001b[39;00m\u001b[38;5;124m\"\u001b[39m)\n",
      "\u001b[0;31mValueError\u001b[0m: Unknown function: ELSE"
     ]
    }
   ],
   "source": [
    "engine = ExecutionEngine(input_img)\n",
    "script = \"\"\"\n",
    "count = COUNTCOL 2;\n",
    "IF [count] > 2\n",
    "    DISPLAY;\n",
    "ELSE\n",
    "    SELECT 0 0 4 4;\n",
    "    FILL 4;\n",
    "END\n",
    "\"\"\"\n",
    "result_image = engine.execute(script)"
   ]
  },
  {
   "cell_type": "code",
   "execution_count": 13,
   "metadata": {},
   "outputs": [
    {
     "ename": "NameError",
     "evalue": "name 'SQLExecutionEngine' is not defined",
     "output_type": "error",
     "traceback": [
      "\u001b[0;31m---------------------------------------------------------------------------\u001b[0m",
      "\u001b[0;31mNameError\u001b[0m                                 Traceback (most recent call last)",
      "Input \u001b[0;32mIn [13]\u001b[0m, in \u001b[0;36m<cell line: 2>\u001b[0;34m()\u001b[0m\n\u001b[1;32m      1\u001b[0m \u001b[38;5;66;03m# initial_image = Image(0, 0, 12, 12)\u001b[39;00m\n\u001b[0;32m----> 2\u001b[0m engine \u001b[38;5;241m=\u001b[39m \u001b[43mSQLExecutionEngine\u001b[49m(input_img)\n\u001b[1;32m      3\u001b[0m sql_commands \u001b[38;5;241m=\u001b[39m \u001b[38;5;124m\"\"\"\u001b[39m\n\u001b[1;32m      4\u001b[0m \u001b[38;5;124mred_count = COUNTCOL 2;\u001b[39m\n\u001b[1;32m      5\u001b[0m \u001b[38;5;124mIF [COUNTCOL 2] > 10\u001b[39m\n\u001b[0;32m   (...)\u001b[0m\n\u001b[1;32m      9\u001b[0m \u001b[38;5;124mDISPLAY\u001b[39m\n\u001b[1;32m     10\u001b[0m \u001b[38;5;124m\"\"\"\u001b[39m\n\u001b[1;32m     12\u001b[0m result_image \u001b[38;5;241m=\u001b[39m engine\u001b[38;5;241m.\u001b[39mexecute(sql_commands)\n",
      "\u001b[0;31mNameError\u001b[0m: name 'SQLExecutionEngine' is not defined"
     ]
    }
   ],
   "source": [
    "# initial_image = Image(0, 0, 12, 12)\n",
    "engine = SQLExecutionEngine(input_img)\n",
    "sql_commands = \"\"\"\n",
    "red_count = COUNTCOL 2;\n",
    "IF [COUNTCOL 2] > 10\n",
    "  SELECT 0 0 5 5;\n",
    "  FILL 1;\n",
    "END\n",
    "DISPLAY\n",
    "\"\"\"\n",
    "\n",
    "result_image = engine.execute(sql_commands)"
   ]
  },
  {
   "cell_type": "code",
   "execution_count": null,
   "metadata": {},
   "outputs": [],
   "source": []
  },
  {
   "cell_type": "code",
   "execution_count": null,
   "metadata": {},
   "outputs": [],
   "source": []
  },
  {
   "cell_type": "code",
   "execution_count": 36,
   "metadata": {},
   "outputs": [],
   "source": [
    "\n",
    "engine = SQLExecutionEngine(input_img)\n",
    "\n",
    "sql_commands = \"\"\"\n",
    "SELECT 0 0 7 7;\n",
    "FOREACH 2 (\n",
    "  SELECT [COL] 0 [COL+1] 7;\n",
    "  REPLACE 2 1 IN [COL] 3 [COL+1] 7;\n",
    ");\n",
    "DISPLAY;\"\"\""
   ]
  },
  {
   "cell_type": "code",
   "execution_count": 40,
   "metadata": {},
   "outputs": [
    {
     "data": {
      "image/png": "[encoded data removed]",
      "text/plain": [
       "<Figure size 500x500 with 2 Axes>"
      ]
     },
     "metadata": {},
     "output_type": "display_data"
    }
   ],
   "source": []
  },
  {
   "cell_type": "code",
   "execution_count": 45,
   "metadata": {},
   "outputs": [
    {
     "ename": "KeyError",
     "evalue": "'('",
     "output_type": "error",
     "traceback": [
      "\u001b[0;31m---------------------------------------------------------------------------\u001b[0m",
      "\u001b[0;31mKeyError\u001b[0m                                  Traceback (most recent call last)",
      "Cell \u001b[0;32mIn[45], line 11\u001b[0m\n\u001b[1;32m      1\u001b[0m engine \u001b[38;5;241m=\u001b[39m SQLExecutionEngine(input_img)\n\u001b[1;32m      3\u001b[0m sql_commands \u001b[38;5;241m=\u001b[39m \u001b[38;5;124m\"\"\"\u001b[39m\n\u001b[1;32m      4\u001b[0m \u001b[38;5;124mSELECT 0 0 7 7;\u001b[39m\n\u001b[1;32m      5\u001b[0m \u001b[38;5;124mFOREACH 2 (\u001b[39m\n\u001b[0;32m   (...)\u001b[0m\n\u001b[1;32m      8\u001b[0m \u001b[38;5;124m);\u001b[39m\n\u001b[1;32m      9\u001b[0m \u001b[38;5;124mDISPLAY;\u001b[39m\u001b[38;5;124m\"\"\"\u001b[39m\n\u001b[0;32m---> 11\u001b[0m result_image \u001b[38;5;241m=\u001b[39m \u001b[43mengine\u001b[49m\u001b[38;5;241;43m.\u001b[39;49m\u001b[43mexecute\u001b[49m\u001b[43m(\u001b[49m\u001b[43msql_commands\u001b[49m\u001b[43m)\u001b[49m\n",
      "Cell \u001b[0;32mIn[40], line 388\u001b[0m, in \u001b[0;36mSQLExecutionEngine.execute\u001b[0;34m(self, sql_string)\u001b[0m\n\u001b[1;32m    386\u001b[0m         func(\u001b[38;5;28mself\u001b[39m\u001b[38;5;241m.\u001b[39mimage)\n\u001b[1;32m    387\u001b[0m     \u001b[38;5;28;01melse\u001b[39;00m:\n\u001b[0;32m--> 388\u001b[0m         \u001b[38;5;28mself\u001b[39m\u001b[38;5;241m.\u001b[39mimage \u001b[38;5;241m=\u001b[39m \u001b[43mfunc\u001b[49m\u001b[43m(\u001b[49m\u001b[38;5;28;43mself\u001b[39;49m\u001b[38;5;241;43m.\u001b[39;49m\u001b[43mimage\u001b[49m\u001b[43m)\u001b[49m\n\u001b[1;32m    389\u001b[0m \u001b[38;5;28;01melse\u001b[39;00m:\n\u001b[1;32m    390\u001b[0m     \u001b[38;5;28mprint\u001b[39m(\u001b[38;5;124mf\u001b[39m\u001b[38;5;124m\"\u001b[39m\u001b[38;5;124mUnknown operation: \u001b[39m\u001b[38;5;132;01m{\u001b[39;00moperation\u001b[38;5;132;01m}\u001b[39;00m\u001b[38;5;124m\"\u001b[39m)\n",
      "Cell \u001b[0;32mIn[40], line 141\u001b[0m, in \u001b[0;36mCommandMapper.foreach.<locals>.<lambda>\u001b[0;34m(img)\u001b[0m\n\u001b[1;32m    139\u001b[0m \u001b[38;5;28;01mdef\u001b[39;00m \u001b[38;5;21mforeach\u001b[39m(\u001b[38;5;28mself\u001b[39m, args: List[\u001b[38;5;28mstr\u001b[39m]) \u001b[38;5;241m-\u001b[39m\u001b[38;5;241m>\u001b[39m Callable[[Image], Image]:\n\u001b[1;32m    140\u001b[0m     color, operation \u001b[38;5;241m=\u001b[39m args[\u001b[38;5;241m0\u001b[39m], args[\u001b[38;5;241m1\u001b[39m]\n\u001b[0;32m--> 141\u001b[0m     \u001b[38;5;28;01mreturn\u001b[39;00m \u001b[38;5;28;01mlambda\u001b[39;00m img: \u001b[38;5;28;43mself\u001b[39;49m\u001b[38;5;241;43m.\u001b[39;49m\u001b[43mapply_to_color\u001b[49m\u001b[43m(\u001b[49m\u001b[43mimg\u001b[49m\u001b[43m,\u001b[49m\u001b[43m \u001b[49m\u001b[43mcolor\u001b[49m\u001b[43m,\u001b[49m\u001b[43m \u001b[49m\u001b[43moperation\u001b[49m\u001b[43m)\u001b[49m\n",
      "Cell \u001b[0;32mIn[40], line 265\u001b[0m, in \u001b[0;36mCommandMapper.apply_to_color\u001b[0;34m(self, img, color, operation)\u001b[0m\n\u001b[1;32m    263\u001b[0m selected \u001b[38;5;241m=\u001b[39m img\u001b[38;5;241m.\u001b[39mcopy()\n\u001b[1;32m    264\u001b[0m selected\u001b[38;5;241m.\u001b[39mmask \u001b[38;5;241m=\u001b[39m np\u001b[38;5;241m.\u001b[39mwhere(mask, img\u001b[38;5;241m.\u001b[39mmask, \u001b[38;5;241m0\u001b[39m)\n\u001b[0;32m--> 265\u001b[0m modified \u001b[38;5;241m=\u001b[39m \u001b[38;5;28;43mself\u001b[39;49m\u001b[38;5;241;43m.\u001b[39;49m\u001b[43mfunction_map\u001b[49m\u001b[43m[\u001b[49m\u001b[43moperation\u001b[49m\u001b[43m]\u001b[49m([])(selected)\n\u001b[1;32m    266\u001b[0m result\u001b[38;5;241m.\u001b[39mmask \u001b[38;5;241m=\u001b[39m np\u001b[38;5;241m.\u001b[39mwhere(mask, modified\u001b[38;5;241m.\u001b[39mmask, result\u001b[38;5;241m.\u001b[39mmask)\n\u001b[1;32m    267\u001b[0m \u001b[38;5;28;01mreturn\u001b[39;00m result\n",
      "\u001b[0;31mKeyError\u001b[0m: '('"
     ]
    }
   ],
   "source": [
    "\n",
    "engine = SQLExecutionEngine(input_img)\n",
    "\n",
    "sql_commands = \"\"\"\n",
    "SELECT 0 0 7 7;\n",
    "FOREACH 2 (\n",
    "  SELECT [COL] 0 [COL+1] 7;\n",
    "  REPLACE 2 1 IN [COL] 3 [COL+1] 7;\n",
    ");\n",
    "DISPLAY;\"\"\"\n",
    "\n",
    "result_image = engine.execute(sql_commands)"
   ]
  },
  {
   "cell_type": "code",
   "execution_count": null,
   "metadata": {},
   "outputs": [],
   "source": []
  }
 ],
 "metadata": {
  "kernelspec": {
   "display_name": "python311",
   "language": "python",
   "name": "python311"
  },
  "language_info": {
   "codemirror_mode": {
    "name": "ipython",
    "version": 3
   },
   "file_extension": ".py",
   "mimetype": "text/x-python",
   "name": "python",
   "nbconvert_exporter": "python",
   "pygments_lexer": "ipython3",
   "version": "3.10.4"
  }
 },
 "nbformat": 4,
 "nbformat_minor": 2
}
