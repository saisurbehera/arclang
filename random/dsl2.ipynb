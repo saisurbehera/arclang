{
 "cells": [
  {
   "cell_type": "code",
   "execution_count": 1,
   "metadata": {},
   "outputs": [
    {
     "name": "stdout",
     "output_type": "stream",
     "text": [
      "[[0 0 0 0 0 0 0 0 0]\n",
      " [0 0 0 0 0 0 0 0 0]\n",
      " [0 0 2 0 0 0 0 0 0]\n",
      " [0 0 2 0 2 0 0 0 0]\n",
      " [0 0 2 0 2 0 0 2 0]\n",
      " [0 0 2 0 2 0 0 2 0]\n",
      " [0 2 0 2 0 2 0 2 0]]\n"
     ]
    }
   ],
   "source": [
    "import numpy as np\n",
    "\n",
    "class Image:\n",
    "    def __init__(self, mask):\n",
    "        self.mask = mask\n",
    "\n",
    "    def move_submatrix(self, shift, selected_area):\n",
    "        shift_y, shift_x = shift\n",
    "        x1, y1, x2, y2 = selected_area\n",
    "        result = self.copy()\n",
    "        matrix = self.mask\n",
    "        \n",
    "        # Create a new submatrix with zeros\n",
    "        submatrix = matrix[y1:y2, x1:x2]\n",
    "        shifted_submatrix = np.zeros_like(submatrix)\n",
    "        \n",
    "        # Calculate the ranges for the new submatrix\n",
    "        start_x = max(0, shift_x)\n",
    "        end_x = submatrix.shape[1] - max(0, -shift_x)\n",
    "        start_y = max(0, shift_y)\n",
    "        end_y = submatrix.shape[0] - max(0, -shift_y)\n",
    "        \n",
    "        # Calculate the ranges for the old submatrix\n",
    "        old_start_x = max(0, -shift_x)\n",
    "        old_end_x = submatrix.shape[1] - max(0, shift_x)\n",
    "        old_start_y = max(0, -shift_y)\n",
    "        old_end_y = submatrix.shape[0] - max(0, shift_y)\n",
    "        \n",
    "        # Copy the values to the new submatrix\n",
    "        shifted_submatrix[start_y:end_y, start_x:end_x] = submatrix[old_start_y:old_end_y, old_start_x:old_end_x]\n",
    "        \n",
    "        # Zero out the original submatrix positions in the result matrix\n",
    "        result.mask[y1:y2, x1:x2] = 0\n",
    "        \n",
    "        # Place the shifted submatrix back into the result matrix\n",
    "        result.mask[y1:y2, x1:x2] = shifted_submatrix\n",
    "        \n",
    "        return result\n",
    "    \n",
    "    def copy(self):\n",
    "        return Image(self.mask.copy())\n",
    "\n",
    "# Example usage\n",
    "matrix = np.array([\n",
    "    [0, 0, 0, 0, 0, 0, 0, 0, 0],\n",
    "    [0, 2, 0, 0, 0, 0, 0, 0, 0],\n",
    "    [0, 2, 0, 2, 0, 0, 0, 0, 0],\n",
    "    [0, 2, 0, 2, 0, 2, 0, 0, 0],\n",
    "    [0, 2, 0, 2, 0, 2, 0, 2, 0],\n",
    "    [0, 2, 0, 2, 0, 2, 0, 2, 0],\n",
    "    [0, 2, 0, 2, 0, 2, 0, 2, 0]\n",
    "])\n",
    "\n",
    "image = Image(matrix)\n",
    "shift = (1, 1)\n",
    "selected_area = (1, 1, 6, 6)\n",
    "\n",
    "result = image.move_submatrix(shift, selected_area)\n",
    "print(result.mask)\n"
   ]
  },
  {
   "cell_type": "code",
   "execution_count": null,
   "metadata": {},
   "outputs": [],
   "source": []
  }
 ],
 "metadata": {
  "kernelspec": {
   "display_name": "base",
   "language": "python",
   "name": "python3"
  },
  "language_info": {
   "codemirror_mode": {
    "name": "ipython",
    "version": 3
   },
   "file_extension": ".py",
   "mimetype": "text/x-python",
   "name": "python",
   "nbconvert_exporter": "python",
   "pygments_lexer": "ipython3",
   "version": "3.12.2"
  }
 },
 "nbformat": 4,
 "nbformat_minor": 2
}
